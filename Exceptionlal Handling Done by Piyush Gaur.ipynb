{
 "cells": [
  {
   "cell_type": "markdown",
   "metadata": {},
   "source": [
    "# ***Exceptional Hanling Assignment 9 sept 2024 by Piyush Gaur***"
   ]
  },
  {
   "cell_type": "markdown",
   "metadata": {},
   "source": [
    "---\n",
    "#### **1. Discuss the scenarios where multithreading is preferable to multiprocessing and scenarios where multiprocessing is a better choice.**"
   ]
  },
  {
   "cell_type": "markdown",
   "metadata": {},
   "source": [
    "### Scenarios for Multithreading vs. Multiprocessing:\n",
    "\n",
    "- **Multithreading** is preferable when:\n",
    "  - The task involves I/O-bound operations, such as file reading, network requests, or database interactions.\n",
    "  - The program needs to execute tasks concurrently but does not benefit much from multiple CPU cores, such as in web scraping or managing multiple socket connections.\n",
    "  - The overhead of creating and managing multiple processes is too high, or shared memory access is required.\n",
    "\n",
    "- **Multiprocessing** is preferable when:\n",
    "  - The task is CPU-bound, such as heavy computations, matrix operations, or simulations.\n",
    "  - The program can benefit from parallel execution on multiple CPU cores.\n",
    "  - Tasks are independent and do not need shared memory, or the cost of inter-process communication is acceptable.\n"
   ]
  },
  {
   "cell_type": "markdown",
   "metadata": {},
   "source": [
    "---\n",
    "#### **2. Describe what a process pool is and how it helps in managing multiple processes efficiently.**"
   ]
  },
  {
   "cell_type": "markdown",
   "metadata": {},
   "source": [
    "A **Process Pool** is a collection of worker processes that are maintained to perform tasks in parallel. The pool allows processes to be reused, reducing the overhead of creating new processes for every task. It manages the execution of tasks by distributing them across the available processes, which helps in efficiently handling multiple processes.\n",
    "."
   ]
  },
  {
   "cell_type": "markdown",
   "metadata": {},
   "source": [
    "---\n",
    "#### **3. Explain what multiprocessing is and why it is used in Python programs.**"
   ]
  },
  {
   "cell_type": "markdown",
   "metadata": {},
   "source": [
    "**Multiprocessing** is the ability to execute multiple processes simultaneously. In Python, it's used to take advantage of multiple CPU cores to execute tasks in parallel, effectively bypassing the Global Interpreter Lock (GIL), which restricts Python threads from running simultaneously on multiple cores. This is particularly useful for CPU-bound tasks."
   ]
  },
  {
   "cell_type": "markdown",
   "metadata": {},
   "source": [
    "---\n",
    "#### **4. Write a Python program using multithreading where one thread adds numbers to a list, and another thread removes numbers from the list. Implement a mechanism to avoid race conditions using threading.Lock.**"
   ]
  },
  {
   "cell_type": "code",
   "execution_count": 1,
   "metadata": {},
   "outputs": [
    {
     "name": "stdout",
     "output_type": "stream",
     "text": [
      "Added 0, List: [0]\n",
      "Removed 0, List: []\n",
      "Added 1, List: [1]\n",
      "Added 2, List: [1, 2]\n",
      "Removed 1, List: [2]\n",
      "Added 3, List: [2, 3]\n",
      "Removed 2, List: [3]\n",
      "Added 4, List: [3, 4]\n",
      "Removed 3, List: [4]\n",
      "Removed 4, List: []\n",
      "Final List: []\n"
     ]
    }
   ],
   "source": [
    "import threading\n",
    "import time\n",
    "\n",
    "numbers = []\n",
    "\n",
    "lock = threading.Lock()\n",
    "\n",
    "def add_numbers():\n",
    "    for i in range(5):\n",
    "        time.sleep(1)  \n",
    "        with lock:\n",
    "            numbers.append(i)\n",
    "            print(f\"Added {i}, List: {numbers}\")\n",
    "\n",
    "def remove_numbers():\n",
    "    for i in range(5):\n",
    "        time.sleep(1.5)  \n",
    "        with lock:\n",
    "            if numbers:\n",
    "                removed = numbers.pop(0)\n",
    "                print(f\"Removed {removed}, List: {numbers}\")\n",
    "\n",
    "thread1 = threading.Thread(target=add_numbers)\n",
    "thread2 = threading.Thread(target=remove_numbers)\n",
    "\n",
    "thread1.start()\n",
    "thread2.start()\n",
    "\n",
    "thread1.join()\n",
    "thread2.join()\n",
    "\n",
    "print(\"Final List:\", numbers)\n"
   ]
  },
  {
   "cell_type": "markdown",
   "metadata": {},
   "source": [
    "---\n",
    "#### **5. Describe the methods and tools available in Python for safely sharing data between threads and processes.**"
   ]
  },
  {
   "cell_type": "markdown",
   "metadata": {},
   "source": [
    "- **Threads:**\n",
    "  - `threading.Lock`: Used to lock resources so that only one thread can access shared data at a time.\n",
    "  - `threading.RLock`: A re-entrant lock that allows a thread to acquire the same lock multiple times.\n",
    "  - `queue.Queue`: A thread-safe FIFO queue that can be used for thread communication and to share data between threads.\n",
    "\n",
    "- **Processes:**\n",
    "  - `multiprocessing.Queue`: A process-safe queue that can be used to share data between processes.\n",
    "  - `multiprocessing.Manager`: Manages shared objects like lists and dictionaries between processes.\n",
    "  - `multiprocessing.Value` and `multiprocessing.Array`: Used for sharing single values or arrays between processes.\n",
    "\n"
   ]
  },
  {
   "cell_type": "markdown",
   "metadata": {},
   "source": [
    "---\n",
    "#### **6. Discuss why it's crucial to handle exceptions in concurrent programs and the techniques available for doing so.**"
   ]
  },
  {
   "cell_type": "markdown",
   "metadata": {},
   "source": [
    "Handling exceptions in concurrent programs is crucial to ensure that errors in one thread or process don't crash the entire program and that resources (like locks or file handles) are released properly. Unhandled exceptions in one part of the program can lead to deadlocks, resource leaks, or inconsistent states.\n",
    "\n",
    "**Techniques:**\n",
    "- Use `try` and `except` blocks to handle exceptions in threads or processes.\n",
    "- In `concurrent.futures`, you can use `future.result()` to catch exceptions raised in threads or processes.\n",
    "- Use context managers (like `with`) to ensure that resources are properly released even if an exception occurs."
   ]
  },
  {
   "cell_type": "markdown",
   "metadata": {},
   "source": [
    "---\n",
    "#### **7. Create a program that uses a thread pool to calculate the factorial of numbers from 1 to 10 concurrently. Use concurrent.futures.ThreadPoolExecutor to manage the threads.**"
   ]
  },
  {
   "cell_type": "code",
   "execution_count": 3,
   "metadata": {},
   "outputs": [
    {
     "name": "stdout",
     "output_type": "stream",
     "text": [
      "Factorial of 1 is 1\n",
      "Factorial of 2 is 2\n",
      "Factorial of 3 is 6\n",
      "Factorial of 4 is 24\n",
      "Factorial of 5 is 120\n",
      "Factorial of 6 is 720\n",
      "Factorial of 7 is 5040\n",
      "Factorial of 8 is 40320\n",
      "Factorial of 9 is 362880\n",
      "Factorial of 10 is 3628800\n"
     ]
    }
   ],
   "source": [
    "from concurrent.futures import ThreadPoolExecutor\n",
    "import math\n",
    "\n",
    "\n",
    "def factorial(n):\n",
    "    return math.factorial(n)\n",
    "\n",
    "numbers = range(1, 11)\n",
    "\n",
    "with ThreadPoolExecutor(max_workers=4) as executor:\n",
    "    results = executor.map(factorial, numbers)\n",
    "\n",
    "for number, result in zip(numbers, results):\n",
    "    print(f\"Factorial of {number} is {result}\")\n"
   ]
  },
  {
   "cell_type": "markdown",
   "metadata": {},
   "source": [
    "---\n",
    "#### **8. Create a Python program that uses multiprocessing.Pool to compute the square of numbers from 1 to 10 in parallel. Measure the time taken to perform this computation using a pool of different sizes (e.g., 2, 4, 8 processes).**"
   ]
  },
  {
   "cell_type": "code",
   "execution_count": 1,
   "metadata": {},
   "outputs": [
    {
     "name": "stdout",
     "output_type": "stream",
     "text": [
      "\n",
      "Using Pool Size: 2\n"
     ]
    }
   ],
   "source": [
    "import multiprocessing\n",
    "import time\n",
    "\n",
    "def square(n):\n",
    "    return n * n\n",
    "\n",
    "numbers = range(1, 11)\n",
    "\n",
    "def compute_squares(pool_size):\n",
    "    print(f\"\\nUsing Pool Size: {pool_size}\")\n",
    "    \n",
    "    start_time = time.time()  # Start timer\n",
    "    \n",
    "    with multiprocessing.Pool(pool_size) as pool:\n",
    "        results = pool.map(square, numbers)\n",
    "    \n",
    "    end_time = time.time()  # End timer\n",
    "    \n",
    "    print(f\"Results: {results}\")\n",
    "    print(f\"Time Taken: {end_time - start_time:.4f} seconds\")\n",
    "\n",
    "for size in [2, 4]:\n",
    "    compute_squares(size)\n"
   ]
  }
 ],
 "metadata": {
  "kernelspec": {
   "display_name": "Python 3",
   "language": "python",
   "name": "python3"
  },
  "language_info": {
   "codemirror_mode": {
    "name": "ipython",
    "version": 3
   },
   "file_extension": ".py",
   "mimetype": "text/x-python",
   "name": "python",
   "nbconvert_exporter": "python",
   "pygments_lexer": "ipython3",
   "version": "3.11.5"
  }
 },
 "nbformat": 4,
 "nbformat_minor": 2
}
